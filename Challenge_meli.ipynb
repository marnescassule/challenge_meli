{
 "cells": [
  {
   "cell_type": "code",
   "execution_count": 0,
   "metadata": {
    "application/vnd.databricks.v1+cell": {
     "cellMetadata": {
      "byteLimit": 2048000,
      "rowLimit": 10000
     },
     "inputWidgets": {},
     "nuid": "8bffd7b8-1768-4d42-8d3b-2641131e7942",
     "showTitle": false,
     "title": ""
    }
   },
   "outputs": [],
   "source": [
    "from pyspark.sql.types import StructType, StructField, StringType, IntegerType, FloatType, ArrayType, BooleanType\n",
    "import json\n",
    "import requests\n"
   ]
  },
  {
   "cell_type": "code",
   "execution_count": 0,
   "metadata": {
    "application/vnd.databricks.v1+cell": {
     "cellMetadata": {
      "byteLimit": 2048000,
      "rowLimit": 10000
     },
     "inputWidgets": {},
     "nuid": "cdfa6287-2290-4023-a6e5-02d5fe91a545",
     "showTitle": false,
     "title": ""
    }
   },
   "outputs": [],
   "source": [
    "storage_account_name = \"testemarnes\"\n",
    "container_name = \"output\"\n",
    "storage_account_key = \"Wcq8QGGLwDDOj1wcSYvL5vDXC4ZWqBGl6QdAACmicZ0ldoj+huGDc9SayZicCU2WGW1YiKFHBV4T+AStjHvKzA==\""
   ]
  },
  {
   "cell_type": "code",
   "execution_count": 0,
   "metadata": {
    "application/vnd.databricks.v1+cell": {
     "cellMetadata": {
      "byteLimit": 2048000,
      "rowLimit": 10000
     },
     "inputWidgets": {},
     "nuid": "eeb355b2-8ce1-4ba3-b3b6-1bc76802a500",
     "showTitle": false,
     "title": ""
    }
   },
   "outputs": [],
   "source": [
    "try:\n",
    "    # Check if the mount point already exists\n",
    "    dbutils.fs.ls(\"/mnt/your_mount_point\")\n",
    "except Exception as e:\n",
    "    # If it doesn't exist, mount it\n",
    "    if \"No such file or directory\" in str(e):\n",
    "        dbutils.fs.mount(\n",
    "            source=f\"wasbs://{container_name}@{storage_account_name}.blob.core.windows.net/\",\n",
    "            mount_point=\"/mnt/your_mount_point\",\n",
    "            extra_configs={\"fs.azure.account.key.\" + storage_account_name + \".blob.core.windows.net\": storage_account_key}\n",
    "        )\n",
    "    else:\n",
    "        # Handle other exceptions\n",
    "        print(f\"Error: {str(e)}\")\n"
   ]
  },
  {
   "cell_type": "code",
   "execution_count": 0,
   "metadata": {
    "application/vnd.databricks.v1+cell": {
     "cellMetadata": {
      "byteLimit": 2048000,
      "rowLimit": 10000
     },
     "inputWidgets": {},
     "nuid": "09c30fee-c947-4e95-b6c4-0e64a97b5995",
     "showTitle": false,
     "title": ""
    }
   },
   "outputs": [
    {
     "output_type": "execute_result",
     "data": {
      "text/plain": [
       "[FileInfo(path='dbfs:/mnt/your_mount_point/dataparquet/', name='dataparquet/', size=0, modificationTime=1706675651000),\n",
       " FileInfo(path='dbfs:/mnt/your_mount_point/output.txt', name='output.txt', size=201478, modificationTime=1706671775000),\n",
       " FileInfo(path='dbfs:/mnt/your_mount_point/output_Meli.txt', name='output_Meli.txt', size=171536, modificationTime=1709949049000)]"
      ]
     },
     "execution_count": 158,
     "metadata": {},
     "output_type": "execute_result"
    }
   ],
   "source": [
    "dbutils.fs.ls(\"/mnt/your_mount_point\")"
   ]
  },
  {
   "cell_type": "code",
   "execution_count": 0,
   "metadata": {
    "application/vnd.databricks.v1+cell": {
     "cellMetadata": {
      "byteLimit": 2048000,
      "rowLimit": 10000
     },
     "inputWidgets": {},
     "nuid": "1cf0e00e-280b-4a51-a7db-3031e785ec33",
     "showTitle": false,
     "title": ""
    }
   },
   "outputs": [],
   "source": [
    "url_source = \"dbfs:/mnt/your_mount_point/output_Meli.txt\""
   ]
  },
  {
   "cell_type": "code",
   "execution_count": 0,
   "metadata": {
    "application/vnd.databricks.v1+cell": {
     "cellMetadata": {
      "byteLimit": 2048000,
      "rowLimit": 10000
     },
     "inputWidgets": {},
     "nuid": "d47db41b-9d9a-4eed-b691-d260773b06d1",
     "showTitle": false,
     "title": ""
    }
   },
   "outputs": [
    {
     "output_type": "stream",
     "name": "stdout",
     "output_type": "stream",
     "text": [
      "+--------------------+--------------------+-------------------------+--------------------+-----------------+--------------------+----------+--------------------+-------+--------------------+\n|   available_filters|     available_sorts|country_default_time_zone|             filters|           paging|        pdp_tracking|     query|             results|site_id|                sort|\n+--------------------+--------------------+-------------------------+--------------------+-----------------+--------------------+----------+--------------------+-------+--------------------+\n|[{official_store,...|[{price_asc, Meno...|                GMT-03:00|[{category, Categ...|{50, 0, 577, 577}|{false, [{MLA2123...|chromecast|[{true, [{OTHERS,...|    MLA|{relevance, Más r...|\n+--------------------+--------------------+-------------------------+--------------------+-----------------+--------------------+----------+--------------------+-------+--------------------+\n\n"
     ]
    }
   ],
   "source": [
    "df = spark.read.json(url_source)\n",
    "df.show()"
   ]
  },
  {
   "cell_type": "code",
   "execution_count": 0,
   "metadata": {
    "application/vnd.databricks.v1+cell": {
     "cellMetadata": {
      "byteLimit": 2048000,
      "rowLimit": 10000
     },
     "inputWidgets": {},
     "nuid": "57d1d21a-d84e-4b62-b175-d1fec35867fd",
     "showTitle": false,
     "title": ""
    }
   },
   "outputs": [],
   "source": [
    "row = df.select('results.id').collect()[0]['id']"
   ]
  },
  {
   "cell_type": "code",
   "execution_count": 0,
   "metadata": {
    "application/vnd.databricks.v1+cell": {
     "cellMetadata": {
      "byteLimit": 2048000,
      "rowLimit": 10000
     },
     "inputWidgets": {},
     "nuid": "77cbb861-67ac-41d8-b6e3-2495ee17a151",
     "showTitle": false,
     "title": ""
    }
   },
   "outputs": [],
   "source": [
    "dados_a_Analyzar = []\n",
    "for id in row:\n",
    "    url = f\"https://api.mercadolibre.com/items/{id}\"\n",
    "    response = requests.get(url)\n",
    "    \n",
    "    if response.status_code == 200:\n",
    "        data = response.json()\n",
    "        \n",
    "        # Process the data further (e.g., convert to dataframe)\n",
    "        dados_a_Analyzar.append([\n",
    "            data[\"id\"],\n",
    "            data[\"site_id\"],\n",
    "            data[\"title\"],\n",
    "            data[\"seller_id\"],\n",
    "            data[\"category_id\"],\n",
    "            data[\"official_store_id\"],\n",
    "            float(data[\"price\"]) if data[\"price\"] is not None else 0.0,\n",
    "            float(data[\"base_price\"]) if data[\"base_price\"] is not None else 0.0,\n",
    "            float(data[\"original_price\"]) if data[\"original_price\"] is not None else 0.0,\n",
    "            data[\"currency_id\"],\n",
    "            data[\"initial_quantity\"],\n",
    "            data[\"buying_mode\"],\n",
    "            data[\"listing_type_id\"],\n",
    "            data[\"condition\"]\n",
    "        ])\n",
    "    else:\n",
    "        print(f\"Error: API call failed with status code: {response.status_code}\")\n"
   ]
  },
  {
   "cell_type": "code",
   "execution_count": 0,
   "metadata": {
    "application/vnd.databricks.v1+cell": {
     "cellMetadata": {
      "byteLimit": 2048000,
      "rowLimit": 10000
     },
     "inputWidgets": {},
     "nuid": "f1bc9502-c7a5-4a9f-9d88-1e4ec95ada88",
     "showTitle": false,
     "title": ""
    }
   },
   "outputs": [],
   "source": [
    "schema_final = StructType([\n",
    "    StructField(\"id\", StringType(), True),\n",
    "    StructField(\"site_id\", StringType(), True),\n",
    "    StructField(\"title\", StringType(), True),\n",
    "    StructField(\"seller_id\", IntegerType(), True),\n",
    "    StructField(\"category_id\", StringType(), True),\n",
    "    StructField(\"official_store_id\", IntegerType(), True),\n",
    "    StructField(\"price\", FloatType(), True),\n",
    "    StructField(\"base_price\", FloatType(), True),\n",
    "    StructField(\"original_price\", FloatType(), True),\n",
    "    StructField(\"currency_id\", StringType(), True),\n",
    "    StructField(\"initial_quantity\", StringType(), True),\n",
    "    StructField(\"buying_mode\", StringType(), True),\n",
    "    StructField(\"listing_type_id\", StringType(), True),\n",
    "    StructField(\"condition\", StringType(), True)\n",
    "])"
   ]
  },
  {
   "cell_type": "code",
   "execution_count": 0,
   "metadata": {
    "application/vnd.databricks.v1+cell": {
     "cellMetadata": {
      "byteLimit": 2048000,
      "rowLimit": 10000
     },
     "inputWidgets": {},
     "nuid": "3e389845-2e73-4683-8fac-4692af45710a",
     "showTitle": false,
     "title": ""
    }
   },
   "outputs": [],
   "source": [
    "df_final = spark.createDataFrame(dados_a_Analyzar, schema=schema_final)"
   ]
  },
  {
   "cell_type": "code",
   "execution_count": 0,
   "metadata": {
    "application/vnd.databricks.v1+cell": {
     "cellMetadata": {
      "byteLimit": 2048000,
      "rowLimit": 10000
     },
     "inputWidgets": {},
     "nuid": "97df05c1-abe8-49f6-ba91-8f3daa7e6f08",
     "showTitle": false,
     "title": ""
    }
   },
   "outputs": [
    {
     "output_type": "stream",
     "name": "stdout",
     "output_type": "stream",
     "text": [
      "+-------------+-------+--------------------+----------+-----------+-----------------+--------+----------+--------------+-----------+----------------+-----------+---------------+---------+\n|           id|site_id|               title| seller_id|category_id|official_store_id|   price|base_price|original_price|currency_id|initial_quantity|buying_mode|listing_type_id|condition|\n+-------------+-------+--------------------+----------+-----------+-----------------+--------+----------+--------------+-----------+----------------+-----------+---------------+---------+\n|MLA1375500305|    MLA|Chromecast Google...| 154567859|  MLA352001|             NULL| 67500.0|   67500.0|           0.0|        ARS|             270| buy_it_now|   gold_special|      new|\n|MLA1520576020|    MLA|Chromecast Google...|1473286957|  MLA352001|             NULL| 71790.0|   71790.0|           0.0|        ARS|             390| buy_it_now|   gold_special|      new|\n|MLA1696276176|    MLA|Google Chromecast...| 216203805|  MLA352001|             NULL| 89500.0|   89500.0|       89500.0|        ARS|             100| buy_it_now|   gold_special|      new|\n|MLA1402963155|    MLA|Google Chromecast...| 135917254|  MLA352001|             NULL| 91994.0|   91994.0|           0.0|        ARS|              15| buy_it_now|   gold_special|      new|\n|MLA1411002341|    MLA|Google Chromecast...| 144027037|  MLA352001|             NULL| 69834.0|   69834.0|           0.0|        ARS|             130| buy_it_now|   gold_special|      new|\n|MLA1691559496|    MLA|Google Chromecast...| 135335976|  MLA352001|             NULL|101499.0|  101499.0|           0.0|        ARS|              40| buy_it_now|   gold_special|      new|\n|MLA1658673372|    MLA|Google Chromecast...|1473286957|  MLA352001|             NULL| 56499.0|   56499.0|           0.0|        ARS|             200| buy_it_now|   gold_special|      new|\n|MLA1391964105|    MLA|Onn Uhd Streaming...| 207056678|  MLA352001|             NULL| 71333.0|   71333.0|           0.0|        ARS|             687| buy_it_now|   gold_special|      new|\n|MLA1690373948|    MLA|Google Chromecast Hd| 541665065|  MLA352001|             NULL| 71999.0|   71999.0|           0.0|        ARS|              20| buy_it_now|   gold_special|      new|\n|MLA1664307948|    MLA|Google Chromecast...| 148613909|  MLA352001|             NULL| 98945.0|   98945.0|           0.0|        ARS|              83| buy_it_now|   gold_special|      new|\n|MLA1116497725|    MLA|Google Chromecast...| 309453406|  MLA352001|             NULL| 59803.0|   59803.0|       69990.0|        ARS|            2641| buy_it_now|   gold_special|      new|\n|MLA1391264291|    MLA|Android Tv Stick ...| 302056611|  MLA352001|             NULL| 59999.0|   59999.0|           0.0|        ARS|             242| buy_it_now|       gold_pro|      new|\n|MLA1565567354|    MLA|Tv Stick Realme 4...| 621229920|  MLA352001|             NULL| 65882.0|   65882.0|           0.0|        ARS|              32| buy_it_now|   gold_special|      new|\n|MLA1402472401|    MLA| Xiaomi Mi Box S ...|1002842391|  MLA352001|             NULL|129999.0|  129999.0|           0.0|        ARS|             135| buy_it_now|   gold_special|      new|\n|MLA1385641269|    MLA|Chromecast 4 Goog...|1002842391|  MLA352001|             NULL| 79999.0|   79999.0|           0.0|        ARS|             633| buy_it_now|   gold_special|      new|\n| MLA877404372|    MLA|Google Chromecast...| 234883070|  MLA352001|             NULL| 56499.0|   56499.0|           0.0|        ARS|             487| buy_it_now|   gold_special|      new|\n|MLA1498171106|    MLA|Google Chromecast...| 284824585|  MLA352001|             NULL| 61238.0|   61238.0|       74990.0|        ARS|            1099| buy_it_now|   gold_special|      new|\n|MLA1693660688|    MLA|Xiaomi Mi Box S M...|1002842391|  MLA352001|             NULL|134999.0|  134999.0|           0.0|        ARS|              50| buy_it_now|   gold_special|      new|\n|MLA1365631869|    MLA|Chromecast 4 Goog...| 126269313|  MLA352001|             NULL| 75999.2|   75999.2|       94999.0|        ARS|            4571| buy_it_now|   gold_special|      new|\n|MLA1256846341|    MLA|Chromecast Smart ...|   9198894|  MLA352001|             NULL|75999.05|  75999.05|       79999.0|        ARS|             619| buy_it_now|   gold_special|      new|\n+-------------+-------+--------------------+----------+-----------+-----------------+--------+----------+--------------+-----------+----------------+-----------+---------------+---------+\nonly showing top 20 rows\n\n"
     ]
    }
   ],
   "source": [
    "df_final.show()"
   ]
  },
  {
   "cell_type": "code",
   "execution_count": 0,
   "metadata": {
    "application/vnd.databricks.v1+cell": {
     "cellMetadata": {
      "byteLimit": 2048000,
      "rowLimit": 10000
     },
     "inputWidgets": {},
     "nuid": "64c19e59-c48e-4d3e-8fe1-030b4b7f546c",
     "showTitle": false,
     "title": ""
    }
   },
   "outputs": [],
   "source": [
    "# Substitua 'caminho/para/salvar/no/datalake' pelo caminho desejado no seu Data Lake\n",
    "# Specify the directory path in the Data Lake\n",
    "directory_path = \"dbfs:/mnt/your_mount_point/\"\n",
    "\n",
    "# List the files in the directory\n",
    "files_list = dbutils.fs.ls(directory_path)\n",
    "\n",
    "# Count the number of files\n",
    "number_of_files = len(files_list)\n",
    "\n",
    "\n",
    "camino_no_datalake = f\"dbfs:/mnt/your_mount_point/file_csv_{number_of_files}.csv\"\n",
    "# Escrever o DataFrame no Data Lake\n",
    "df_final.write.csv(camino_no_datalake, header=True)"
   ]
  },
  {
   "cell_type": "code",
   "execution_count": 0,
   "metadata": {
    "application/vnd.databricks.v1+cell": {
     "cellMetadata": {
      "byteLimit": 2048000,
      "rowLimit": 10000
     },
     "inputWidgets": {},
     "nuid": "f75b37cb-a5b0-4021-9f36-b9854d4ea70e",
     "showTitle": false,
     "title": ""
    }
   },
   "outputs": [
    {
     "output_type": "stream",
     "name": "stdout",
     "output_type": "stream",
     "text": [
      "+-------------+-------+--------------------+----------+-----------+-----------------+--------+----------+--------------+-----------+----------------+-----------+---------------+---------+\n|           id|site_id|               title| seller_id|category_id|official_store_id|   price|base_price|original_price|currency_id|initial_quantity|buying_mode|listing_type_id|condition|\n+-------------+-------+--------------------+----------+-----------+-----------------+--------+----------+--------------+-----------+----------------+-----------+---------------+---------+\n|MLA1375500305|    MLA|Chromecast Google...| 154567859|  MLA352001|             NULL| 67500.0|   67500.0|           0.0|        ARS|             270| buy_it_now|   gold_special|      new|\n|MLA1520576020|    MLA|Chromecast Google...|1473286957|  MLA352001|             NULL| 71790.0|   71790.0|           0.0|        ARS|             390| buy_it_now|   gold_special|      new|\n|MLA1696276176|    MLA|Google Chromecast...| 216203805|  MLA352001|             NULL| 89500.0|   89500.0|       89500.0|        ARS|             100| buy_it_now|   gold_special|      new|\n|MLA1402963155|    MLA|Google Chromecast...| 135917254|  MLA352001|             NULL| 91994.0|   91994.0|           0.0|        ARS|              15| buy_it_now|   gold_special|      new|\n|MLA1411002341|    MLA|Google Chromecast...| 144027037|  MLA352001|             NULL| 69834.0|   69834.0|           0.0|        ARS|             130| buy_it_now|   gold_special|      new|\n|MLA1691559496|    MLA|Google Chromecast...| 135335976|  MLA352001|             NULL|101499.0|  101499.0|           0.0|        ARS|              40| buy_it_now|   gold_special|      new|\n|MLA1658673372|    MLA|Google Chromecast...|1473286957|  MLA352001|             NULL| 56499.0|   56499.0|           0.0|        ARS|             200| buy_it_now|   gold_special|      new|\n|MLA1391964105|    MLA|Onn Uhd Streaming...| 207056678|  MLA352001|             NULL| 71333.0|   71333.0|           0.0|        ARS|             687| buy_it_now|   gold_special|      new|\n|MLA1690373948|    MLA|Google Chromecast Hd| 541665065|  MLA352001|             NULL| 71999.0|   71999.0|           0.0|        ARS|              20| buy_it_now|   gold_special|      new|\n|MLA1664307948|    MLA|Google Chromecast...| 148613909|  MLA352001|             NULL| 98945.0|   98945.0|           0.0|        ARS|              83| buy_it_now|   gold_special|      new|\n|MLA1116497725|    MLA|Google Chromecast...| 309453406|  MLA352001|             NULL| 59803.0|   59803.0|       69990.0|        ARS|            2641| buy_it_now|   gold_special|      new|\n|MLA1391264291|    MLA|Android Tv Stick ...| 302056611|  MLA352001|             NULL| 59999.0|   59999.0|           0.0|        ARS|             242| buy_it_now|       gold_pro|      new|\n|MLA1565567354|    MLA|Tv Stick Realme 4...| 621229920|  MLA352001|             NULL| 65882.0|   65882.0|           0.0|        ARS|              32| buy_it_now|   gold_special|      new|\n|MLA1402472401|    MLA| Xiaomi Mi Box S ...|1002842391|  MLA352001|             NULL|129999.0|  129999.0|           0.0|        ARS|             135| buy_it_now|   gold_special|      new|\n|MLA1385641269|    MLA|Chromecast 4 Goog...|1002842391|  MLA352001|             NULL| 79999.0|   79999.0|           0.0|        ARS|             633| buy_it_now|   gold_special|      new|\n| MLA877404372|    MLA|Google Chromecast...| 234883070|  MLA352001|             NULL| 56499.0|   56499.0|           0.0|        ARS|             487| buy_it_now|   gold_special|      new|\n|MLA1498171106|    MLA|Google Chromecast...| 284824585|  MLA352001|             NULL| 61238.0|   61238.0|       74990.0|        ARS|            1099| buy_it_now|   gold_special|      new|\n|MLA1693660688|    MLA|Xiaomi Mi Box S M...|1002842391|  MLA352001|             NULL|134999.0|  134999.0|           0.0|        ARS|              50| buy_it_now|   gold_special|      new|\n|MLA1365631869|    MLA|Chromecast 4 Goog...| 126269313|  MLA352001|             NULL| 75999.2|   75999.2|       94999.0|        ARS|            4571| buy_it_now|   gold_special|      new|\n|MLA1256846341|    MLA|Chromecast Smart ...|   9198894|  MLA352001|             NULL|75999.05|  75999.05|       79999.0|        ARS|             619| buy_it_now|   gold_special|      new|\n+-------------+-------+--------------------+----------+-----------+-----------------+--------+----------+--------------+-----------+----------------+-----------+---------------+---------+\nonly showing top 20 rows\n\n"
     ]
    }
   ],
   "source": [
    "df_final.show()"
   ]
  }
 ],
 "metadata": {
  "application/vnd.databricks.v1+notebook": {
   "dashboards": [],
   "language": "python",
   "notebookMetadata": {
    "pythonIndentUnit": 4
   },
   "notebookName": "Challenge_meli",
   "widgets": {}
  }
 },
 "nbformat": 4,
 "nbformat_minor": 0
}
